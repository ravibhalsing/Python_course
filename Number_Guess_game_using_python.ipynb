{
 "cells": [
  {
   "cell_type": "code",
   "execution_count": 2,
   "id": "767fb05c",
   "metadata": {},
   "outputs": [],
   "source": [
    "## number guessing game in python"
   ]
  },
  {
   "cell_type": "code",
   "execution_count": 5,
   "id": "25340be5",
   "metadata": {},
   "outputs": [],
   "source": [
    "import random"
   ]
  },
  {
   "cell_type": "code",
   "execution_count": 6,
   "id": "380958e2",
   "metadata": {},
   "outputs": [],
   "source": [
    "# number = random.randint(1,100)\n",
    "# chances = 0\n"
   ]
  },
  {
   "cell_type": "code",
   "execution_count": 11,
   "id": "f4db3b98",
   "metadata": {},
   "outputs": [],
   "source": [
    "def num_guess_game():\n",
    "    number = random.randint(1,100)\n",
    "    chances = 0\n",
    "\n",
    "    while chances < 5 :\n",
    "        guess = int(input())\n",
    "        if guess == number:\n",
    "            print(\"congratulations you won\")\n",
    "        elif guess < number:\n",
    "            print(\"number you have given is low which is\",guess)\n",
    "        elif guess > number:\n",
    "            print(\"number you have given is high which is \",guess)\n",
    "        chances = chances + 1\n",
    "        \n",
    "    if not chances < 5:\n",
    "        print(\"You loose ,the number is\", number)"
   ]
  },
  {
   "cell_type": "code",
   "execution_count": 12,
   "id": "c8dca1e7",
   "metadata": {},
   "outputs": [
    {
     "name": "stdout",
     "output_type": "stream",
     "text": [
      "10\n",
      "number you have given is low which is 10\n",
      "25\n",
      "number you have given is low which is 25\n",
      "30\n",
      "number you have given is low which is 30\n",
      "40\n",
      "number you have given is low which is 40\n",
      "80\n",
      "number you have given is high which is  80\n",
      "You loose ,the number is 50\n"
     ]
    }
   ],
   "source": [
    "num_guess_game()"
   ]
  },
  {
   "cell_type": "code",
   "execution_count": 14,
   "id": "76728121",
   "metadata": {},
   "outputs": [
    {
     "name": "stdout",
     "output_type": "stream",
     "text": [
      "\n",
      " Do you want to play again: Y/N \n",
      "y\n",
      "50\n",
      "number you have given is high which is  50\n",
      "40\n",
      "number you have given is low which is 40\n",
      "45\n",
      "number you have given is low which is 45\n",
      "46\n",
      "number you have given is low which is 46\n",
      "48\n",
      "number you have given is high which is  48\n",
      "You loose ,the number is 47\n",
      "Do you want to play again: Y/N \n",
      "N\n",
      "Thanks for playing\n"
     ]
    }
   ],
   "source": [
    "interest=input(\"\\n Do you want to play again: Y/N \\n\")\n",
    "while interest =='y' or interest=='Y':\n",
    "    num_guess_game()\n",
    "    interest = input(\"Do you want to play again: Y/N \\n\")\n",
    "\n",
    "print(\"Thanks for playing\")"
   ]
  },
  {
   "cell_type": "code",
   "execution_count": null,
   "id": "af967b74",
   "metadata": {},
   "outputs": [],
   "source": []
  }
 ],
 "metadata": {
  "kernelspec": {
   "display_name": "Python 3",
   "language": "python",
   "name": "python3"
  },
  "language_info": {
   "codemirror_mode": {
    "name": "ipython",
    "version": 3
   },
   "file_extension": ".py",
   "mimetype": "text/x-python",
   "name": "python",
   "nbconvert_exporter": "python",
   "pygments_lexer": "ipython3",
   "version": "3.8.8"
  }
 },
 "nbformat": 4,
 "nbformat_minor": 5
}
