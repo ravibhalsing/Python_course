{
 "cells": [
  {
   "cell_type": "code",
   "execution_count": 15,
   "id": "5c2f7fb3",
   "metadata": {},
   "outputs": [],
   "source": [
    "import smtplib\n",
    "import pandas as pd\n",
    "from email.mime.multipart import MIMEMultipart\n",
    "from email.mime.text import MIMEText\n",
    "from email.mime.application import MIMEApplication\n"
   ]
  },
  {
   "cell_type": "code",
   "execution_count": 16,
   "id": "2e30acb9",
   "metadata": {},
   "outputs": [],
   "source": [
    "# Email configuration\n",
    "from_email = your outlook mail\n",
    "to_email = users mail which you want to send the mail\n",
    "smtp_server = 'smtp.office365.com'  # Outlook SMTP server\n",
    "smtp_port = 587  # Port for Outlook SMTP\n",
    "username = your user name\n",
    "password = password\n",
    "\n",
    "# Create a message object\n",
    "msg = MIMEMultipart()\n",
    "msg['From'] = from_email\n",
    "msg['To'] = to_email\n",
    "msg['Subject'] = 'Your Subject'\n"
   ]
  },
  {
   "cell_type": "code",
   "execution_count": 17,
   "id": "514a226c",
   "metadata": {},
   "outputs": [],
   "source": [
    "# Add email text\n",
    "email_text = \"This is the email body text.\"\n",
    "msg.attach(MIMEText(email_text, 'plain'))\n"
   ]
  },
  {
   "cell_type": "code",
   "execution_count": 18,
   "id": "529f54a6",
   "metadata": {},
   "outputs": [],
   "source": [
    "df = pd.read_csv('credit_card_clients.csv')"
   ]
  },
  {
   "cell_type": "code",
   "execution_count": 19,
   "id": "c7be133a",
   "metadata": {},
   "outputs": [],
   "source": [
    "# Convert the DataFrame to a CSV and attach it\n",
    "df_csv = df.to_csv(index=False)\n",
    "df_attachment = MIMEApplication(df_csv, _subtype='csv')\n",
    "df_attachment.add_header('content-disposition', 'attachment', filename='credit_details.csv')\n",
    "msg.attach(df_attachment)\n"
   ]
  },
  {
   "cell_type": "code",
   "execution_count": 20,
   "id": "13ea85e0",
   "metadata": {},
   "outputs": [],
   "source": [
    "# Connect to the SMTP server and send the email\n",
    "with smtplib.SMTP(smtp_server, smtp_port) as server:\n",
    "    server.starttls()\n",
    "    server.login(username, password)\n",
    "    server.sendmail(from_email, to_email, msg.as_string())\n"
   ]
  },
  {
   "cell_type": "code",
   "execution_count": null,
   "id": "0e006cd4",
   "metadata": {},
   "outputs": [],
   "source": []
  }
 ],
 "metadata": {
  "kernelspec": {
   "display_name": "Python 3",
   "language": "python",
   "name": "python3"
  },
  "language_info": {
   "codemirror_mode": {
    "name": "ipython",
    "version": 3
   },
   "file_extension": ".py",
   "mimetype": "text/x-python",
   "name": "python",
   "nbconvert_exporter": "python",
   "pygments_lexer": "ipython3",
   "version": "3.8.8"
  }
 },
 "nbformat": 4,
 "nbformat_minor": 5
}
